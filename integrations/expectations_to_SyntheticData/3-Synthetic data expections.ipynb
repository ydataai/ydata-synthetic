{
 "cells": [
  {
   "cell_type": "markdown",
   "id": "ba394302",
   "metadata": {},
   "source": [
    "# From Expectations to Synthetic Data generation\n",
    "\n",
    "## 3. Synthetic data & expectations\n",
    "\n",
    "After the generation of the synthetic data, we need to assess the quality of the data. For the purpose of this flow we are only going to focus on the data Fidelity assesment both with `pandas-profiling` and `great-expectations`\n"
   ]
  },
  {
   "cell_type": "markdown",
   "id": "8c1de75c-0578-416b-beea-2e55665f0559",
   "metadata": {},
   "source": [
    "### The dataset - Real and Synthetic data"
   ]
  },
  {
   "cell_type": "code",
   "execution_count": 3,
   "id": "81d0987d-1eab-42bd-8bbb-f58df29c277f",
   "metadata": {},
   "outputs": [],
   "source": [
    "import json\n",
    "import pandas as pd\n",
    "\n",
    "dataset_name = \"Cardiovascular\"\n",
    "real = pd.read_csv('cardio.csv')\n",
    "synth = pd.read_csv(f'synth_{dataset_name}')\n",
    "\n",
    "#Read the json_profiling from the real data\n",
    "f = open(f'.profile_{dataset_name}.json')\n",
    "json_profile = json.load(f)\n",
    "json_profile = json.loads(json_profile)"
   ]
  },
  {
   "cell_type": "markdown",
   "id": "aeb7da22-86b6-4875-a285-f084c56da6d6",
   "metadata": {},
   "source": [
    "#### Profiling the synthetic data"
   ]
  },
  {
   "cell_type": "code",
   "execution_count": 4,
   "id": "bc823b92-9103-4232-8eee-aaf49f652d0c",
   "metadata": {},
   "outputs": [],
   "source": [
    "from pandas_profiling import ProfileReport"
   ]
  },
  {
   "cell_type": "code",
   "execution_count": 5,
   "id": "72c16eaa-bc57-43d0-b4b2-95f6c3180a04",
   "metadata": {},
   "outputs": [],
   "source": [
    "title = f\"Synth: {dataset_name}\"\n",
    "synth_profile = ProfileReport(synth, title=title)"
   ]
  },
  {
   "cell_type": "markdown",
   "id": "6460dc2a-9dc1-49ad-bc96-cd7bce7b7358",
   "metadata": {},
   "source": [
    "#### Running the expectations"
   ]
  },
  {
   "cell_type": "code",
   "execution_count": 6,
   "id": "ce5fa722-8614-4d8a-9f3d-bdec244322ea",
   "metadata": {},
   "outputs": [],
   "source": [
    "import great_expectations as ge\n",
    "\n",
    "data_context = ge.data_context.DataContext(context_root_dir=\"great_expectations\")\n",
    "\n",
    "#Loading the previously build suite\n",
    "suite = data_context.get_expectation_suite(f\"{dataset_name}_expectations\")"
   ]
  },
  {
   "cell_type": "code",
   "execution_count": 10,
   "id": "ecdb1a86-88ca-461d-92c6-5311befec388",
   "metadata": {},
   "outputs": [],
   "source": [
    "batch = ge.dataset.PandasDataset(synth, expectation_suite=suite)"
   ]
  },
  {
   "cell_type": "code",
   "execution_count": 11,
   "id": "2e45447d-9d36-4630-b217-b79bfb08b4e3",
   "metadata": {},
   "outputs": [],
   "source": [
    "results = data_context.run_validation_operator(\n",
    "    \"action_list_operator\", assets_to_validate=[batch]\n",
    ")\n",
    "validation_result_identifier = results.list_validation_result_identifiers()[0]"
   ]
  },
  {
   "cell_type": "code",
   "execution_count": 12,
   "id": "1be6e0fa-0f5e-4fa0-97c0-278d2a5f991f",
   "metadata": {},
   "outputs": [],
   "source": [
    "#Building & openning the Data Docs\n",
    "data_context.build_data_docs()\n",
    "data_context.open_data_docs(validation_result_identifier)"
   ]
  }
 ],
 "metadata": {
  "kernelspec": {
   "display_name": "profiling",
   "language": "python",
   "name": "profiling"
  },
  "language_info": {
   "codemirror_mode": {
    "name": "ipython",
    "version": 3
   },
   "file_extension": ".py",
   "mimetype": "text/x-python",
   "name": "python",
   "nbconvert_exporter": "python",
   "pygments_lexer": "ipython3",
   "version": "3.8.13"
  }
 },
 "nbformat": 4,
 "nbformat_minor": 5
}
