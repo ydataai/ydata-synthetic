{
 "nbformat": 4,
 "nbformat_minor": 2,
 "metadata": {
  "kernelspec": {
   "name": "python3",
   "language": "python",
   "display_name": "Python 3 (ipykernel)"
  },
  "language_info": {
   "codemirror_mode": {
    "name": "ipython",
    "version": 3
   },
   "file_extension": ".py",
   "mimetype": "text/x-python",
   "name": "python",
   "nbconvert_exporter": "python",
   "pygments_lexer": "ipython3",
   "version": "3.7.3"
  },
  "colab": {
   "name": "gan_example.ipynb",
   "provenance": []
  }
 },
 "cells": [
  {
   "cell_type": "markdown",
   "source": [
    "# The Credit Card Fraud Dataset - Synthesizing the Minority Class\n",
    "\n",
    "In this notebook a practical exercise is presented to showcase the usage of the YData Synthetic library along with\n",
    "GANs to synthesize tabular data.\n",
    "For the purpose of this exercise, dataset of credit card fraud from Kaggle is used, that can be found here:\n",
    "https://www.kaggle.com/mlg-ulb/creditcardfraud"
   ],
   "metadata": {
    "collapsed": true,
    "pycharm": {
     "name": "#%% md\n"
    },
    "id": "AnCU8-Mal4fV"
   }
  },
  {
   "cell_type": "code",
   "execution_count": 1,
   "source": [
    "# Note: You can select between running the Notebook on \"CPU\" or \"GPU\"\n",
    "# Click \"Runtime > Change Runtime time\" and set \"GPU\""
   ],
   "outputs": [],
   "metadata": {
    "pycharm": {
     "name": "#%%\n"
    },
    "id": "j0CX0r65l4fY"
   }
  },
  {
   "cell_type": "code",
   "execution_count": 2,
   "source": [
    "# Install ydata-synthetic lib\n",
    "# ! pip install ydata-synthetic"
   ],
   "outputs": [],
   "metadata": {
    "pycharm": {
     "name": "#%%\n"
    },
    "id": "x0u2qegKl4fY",
    "outputId": "51b00474-09de-4e9a-dbf9-9535f056fbd0",
    "colab": {
     "base_uri": "https://localhost:8080/",
     "height": 247
    }
   }
  },
  {
   "cell_type": "code",
   "execution_count": 3,
   "source": [
    "import os\n",
    "\n",
    "import sklearn.cluster as cluster\n",
    "\n",
    "from ydata_synthetic.synthesizers.regular import VanilllaGAN\n",
    "from ydata_synthetic.synthesizers import ModelParameters, TrainParameters\n",
    "from ydata_synthetic.preprocessing.regular.credit_fraud import *\n",
    "\n",
    "model = VanilllaGAN"
   ],
   "outputs": [],
   "metadata": {
    "pycharm": {
     "name": "#%%\n"
    },
    "id": "oX2OK2fbl4fZ"
   }
  },
  {
   "cell_type": "code",
   "execution_count": 4,
   "source": [
    "# Read the original data and have it preprocessed\n",
    "data = pd.read_csv('../../data/creditcard.csv', index_col=[0])"
   ],
   "outputs": [],
   "metadata": {
    "pycharm": {
     "name": "#%%\n"
    },
    "id": "P1Rcz4RPl4fZ"
   }
  },
  {
   "cell_type": "code",
   "execution_count": 5,
   "source": [
    "# Extract list of columns\n",
    "data_cols = list(data.columns[ data.columns != 'Class' ])\n",
    "\n",
    "print('Dataset columns: {}'.format(data_cols))\n",
    "sorted_cols = ['V14', 'V4', 'V10', 'V17', 'V12', 'V26', 'Amount', 'V21', 'V8', 'V11', 'V7', 'V28', 'V19', 'V3', 'V22', 'V6', 'V20', 'V27', 'V16', 'V13', 'V25', 'V24', 'V18', 'V2', 'V1', 'V5', 'V15', 'V9', 'V23', 'Class']\n",
    "processed_data = data[ sorted_cols ].copy()"
   ],
   "outputs": [
    {
     "output_type": "stream",
     "name": "stdout",
     "text": [
      "Dataset columns: ['V1', 'V2', 'V3', 'V4', 'V5', 'V6', 'V7', 'V8', 'V9', 'V10', 'V11', 'V12', 'V13', 'V14', 'V15', 'V16', 'V17', 'V18', 'V19', 'V20', 'V21', 'V22', 'V23', 'V24', 'V25', 'V26', 'V27', 'V28', 'Amount']\n"
     ]
    }
   ],
   "metadata": {
    "id": "ceNe1Ofbl4fZ",
    "outputId": "f8f9fece-e7d3-454f-d4c9-d6cd116ca68a",
    "colab": {
     "base_uri": "https://localhost:8080/"
    }
   }
  },
  {
   "cell_type": "code",
   "execution_count": 6,
   "source": [
    "# Before training the GAN do not forget to apply the required data transformations\n",
    "# To ease here we've applied a PowerTransformation - make data distribution more Gaussian-like.\n",
    "_, data, _ = transformations(data)\n",
    "\n",
    "# For the purpose of this example we will only synthesize the minority class\n",
    "# train_data contains 492 rows which had 'Class' value as 1 (which were very few)\n",
    "train_data = data.loc[ data['Class']==1 ].copy()\n",
    "\n",
    "print(\"Dataset info: Number of records - {} Number of variables - {}\".format(train_data.shape[0], train_data.shape[1]))\n",
    "\n",
    "# We define a K-means clustering method using sklearn, and declare that\n",
    "# we want 2 clusters. We then apply this algorithm (fit_predict) to our train_data\n",
    "# We essentially get an array of 492 rows ('labels') having values either 0 or 1 for the 2 clustered classes.\n",
    "algorithm = cluster.KMeans\n",
    "args, kwds = (), {'n_clusters':2, 'random_state':0}\n",
    "labels = algorithm(*args, **kwds).fit_predict(train_data[ data_cols ])\n",
    "\n",
    "# Get the count of both classes\n",
    "print( pd.DataFrame( [ [np.sum(labels==i)] for i in np.unique(labels) ], columns=['count'], index=np.unique(labels) ) )\n",
    "\n",
    "# Assign the k-means clustered classes' labels to the a seperate copy of train data 'fraud_w_classes'\n",
    "fraud_w_classes = train_data.copy()\n",
    "fraud_w_classes['Class'] = labels"
   ],
   "outputs": [
    {
     "output_type": "stream",
     "name": "stdout",
     "text": [
      "Dataset info: Number of records - 492 Number of variables - 30\n",
      "   count\n",
      "0    384\n",
      "1    108\n"
     ]
    }
   ],
   "metadata": {
    "pycharm": {
     "name": "#%%\n"
    },
    "id": "3o4V8-ypl4fa",
    "outputId": "39fabdb7-b3e4-492f-85f0-cd6232b45609",
    "colab": {
     "base_uri": "https://localhost:8080/"
    }
   }
  },
  {
   "cell_type": "markdown",
   "source": [
    "# GAN training\n",
    "\n",
    "Below you can try to train your own generators using the available GANs architectures. You can train it either with labels (created using KMeans) or with no labels at all. \n",
    "\n",
    "Remember that for this exercise in particular we've decided to synthesize only the minority class from the Credit Fraud dataset."
   ],
   "metadata": {
    "pycharm": {
     "name": "#%% md\n"
    },
    "id": "3ezlIjKbl4fb"
   }
  },
  {
   "cell_type": "code",
   "execution_count": 7,
   "source": [
    "# Define the GAN and training parameters\n",
    "noise_dim = 32\n",
    "dim = 128\n",
    "batch_size = 128\n",
    "\n",
    "log_step = 100\n",
    "epochs = 200+1\n",
    "learning_rate = 5e-4\n",
    "beta_1 = 0.5\n",
    "beta_2 = 0.9\n",
    "models_dir = './cache'\n",
    "\n",
    "train_sample = fraud_w_classes.copy().reset_index(drop=True)\n",
    "print(\"train_sample.columns:\")\n",
    "print(train_sample.columns)\n",
    "\n",
    "# There's only 1 class, so essentially rename the 'Class' to 'Class_1',\n",
    "# which tells weather a sample data is of class 1 or not.\n",
    "train_sample = pd.get_dummies(train_sample, columns=['Class'], prefix='Class', drop_first=True)\n",
    "\n",
    "# 'Class_1' label\n",
    "label_cols = [ i for i in train_sample.columns if 'Class' in i ]\n",
    "\n",
    "# All columns except 'Class_1'\n",
    "data_cols = [ i for i in train_sample.columns if i not in label_cols ]\n",
    "\n",
    "# Scale down the data, and rename it to 'train_no_label'\n",
    "train_sample[ data_cols ] = train_sample[ data_cols ] / 10 # scale to random noise size, one less thing to learn\n",
    "train_no_label = train_sample[ data_cols ]"
   ],
   "outputs": [
    {
     "output_type": "stream",
     "name": "stdout",
     "text": [
      "train_sample.columns:\n",
      "Index(['V1', 'V2', 'V3', 'V4', 'V5', 'V6', 'V7', 'V8', 'V9', 'V10', 'V11',\n",
      "       'V12', 'V13', 'V14', 'V15', 'V16', 'V17', 'V18', 'V19', 'V20', 'V21',\n",
      "       'V22', 'V23', 'V24', 'V25', 'V26', 'V27', 'V28', 'Amount', 'Class'],\n",
      "      dtype='object')\n"
     ]
    }
   ],
   "metadata": {
    "pycharm": {
     "name": "#%%\n"
    },
    "id": "7FMDs5eql4fb"
   }
  },
  {
   "cell_type": "code",
   "execution_count": 8,
   "source": [
    "#Setting the GAN model parameters and the training step parameters\n",
    "gan_args = ModelParameters(batch_size=batch_size,\n",
    "                           lr=learning_rate,\n",
    "                           betas=(beta_1, beta_2),\n",
    "                           noise_dim=noise_dim,\n",
    "                           n_cols=train_sample.shape[1],\n",
    "                           layers_dim=dim)\n",
    "\n",
    "train_args = TrainParameters(epochs=epochs,\n",
    "                             sample_interval=log_step)"
   ],
   "outputs": [],
   "metadata": {
    "collapsed": false,
    "pycharm": {
     "name": "#%%\n"
    }
   }
  },
  {
   "cell_type": "code",
   "execution_count": 9,
   "source": [
    "# Training the GAN model chosen: Vanilla GAN, CGAN, DCGAN, etc.\n",
    "synthesizer = model(gan_args)\n",
    "synthesizer.train(train_sample, train_args)"
   ],
   "outputs": [
    {
     "output_type": "stream",
     "name": "stderr",
     "text": [
      "  1%|▏         | 3/201 [00:00<00:39,  5.04it/s]"
     ]
    },
    {
     "output_type": "stream",
     "name": "stdout",
     "text": [
      "0 [D loss: 0.667799, acc.: 50.00%] [G loss: 0.627460]\n",
      "generated_data\n",
      "1 [D loss: 0.711574, acc.: 50.00%] [G loss: 0.605750]\n",
      "2 [D loss: 0.685413, acc.: 55.86%] [G loss: 0.811609]\n",
      "3 [D loss: 0.664166, acc.: 64.84%] [G loss: 0.925518]\n"
     ]
    },
    {
     "output_type": "stream",
     "name": "stderr",
     "text": [
      "  3%|▎         | 7/201 [00:00<00:19,  9.93it/s]"
     ]
    },
    {
     "output_type": "stream",
     "name": "stdout",
     "text": [
      "4 [D loss: 0.609520, acc.: 75.78%] [G loss: 0.942143]\n",
      "5 [D loss: 0.614591, acc.: 75.00%] [G loss: 0.833043]\n",
      "6 [D loss: 0.615558, acc.: 63.28%] [G loss: 0.792707]\n",
      "7 [D loss: 0.626250, acc.: 57.81%] [G loss: 0.754947]\n"
     ]
    },
    {
     "output_type": "stream",
     "name": "stderr",
     "text": [
      "  5%|▌         | 11/201 [00:01<00:15, 11.98it/s]"
     ]
    },
    {
     "output_type": "stream",
     "name": "stdout",
     "text": [
      "8 [D loss: 0.786874, acc.: 49.61%] [G loss: 0.651523]\n",
      "9 [D loss: 0.479988, acc.: 86.33%] [G loss: 1.305638]\n",
      "10 [D loss: 0.408540, acc.: 86.33%] [G loss: 1.362704]\n"
     ]
    },
    {
     "output_type": "stream",
     "name": "stderr",
     "text": [
      "  7%|▋         | 15/201 [00:01<00:13, 13.71it/s]"
     ]
    },
    {
     "output_type": "stream",
     "name": "stdout",
     "text": [
      "11 [D loss: 0.533762, acc.: 64.06%] [G loss: 0.940758]\n",
      "12 [D loss: 0.598850, acc.: 60.94%] [G loss: 0.964313]\n",
      "13 [D loss: 0.778332, acc.: 32.42%] [G loss: 0.729217]\n",
      "14 [D loss: 0.859972, acc.: 13.67%] [G loss: 0.655480]\n"
     ]
    },
    {
     "output_type": "stream",
     "name": "stderr",
     "text": [
      "  8%|▊         | 17/201 [00:01<00:13, 13.68it/s]"
     ]
    },
    {
     "output_type": "stream",
     "name": "stdout",
     "text": [
      "15 [D loss: 0.742009, acc.: 33.98%] [G loss: 0.852757]\n",
      "16 [D loss: 0.682731, acc.: 59.38%] [G loss: 0.908791]\n",
      "17 [D loss: 0.639570, acc.: 68.36%] [G loss: 1.022757]\n"
     ]
    },
    {
     "output_type": "stream",
     "name": "stderr",
     "text": [
      " 10%|█         | 21/201 [00:01<00:12, 14.24it/s]"
     ]
    },
    {
     "output_type": "stream",
     "name": "stdout",
     "text": [
      "18 [D loss: 0.612888, acc.: 70.31%] [G loss: 0.988172]\n",
      "19 [D loss: 0.640458, acc.: 58.20%] [G loss: 0.809449]\n",
      "20 [D loss: 0.648786, acc.: 66.02%] [G loss: 0.838685]\n",
      "21 [D loss: 0.507747, acc.: 81.25%] [G loss: 1.097573]\n"
     ]
    },
    {
     "output_type": "stream",
     "name": "stderr",
     "text": [
      " 12%|█▏        | 25/201 [00:02<00:11, 14.83it/s]"
     ]
    },
    {
     "output_type": "stream",
     "name": "stdout",
     "text": [
      "22 [D loss: 0.460041, acc.: 84.77%] [G loss: 1.104118]\n",
      "23 [D loss: 0.483974, acc.: 76.95%] [G loss: 0.992063]\n",
      "24 [D loss: 0.596746, acc.: 53.52%] [G loss: 0.749414]\n",
      "25 [D loss: 0.523119, acc.: 76.95%] [G loss: 1.000256]\n"
     ]
    },
    {
     "output_type": "stream",
     "name": "stderr",
     "text": [
      " 14%|█▍        | 29/201 [00:02<00:12, 14.04it/s]"
     ]
    },
    {
     "output_type": "stream",
     "name": "stdout",
     "text": [
      "26 [D loss: 0.588859, acc.: 72.66%] [G loss: 0.951767]\n",
      "27 [D loss: 0.741217, acc.: 50.78%] [G loss: 0.818179]\n",
      "28 [D loss: 0.743806, acc.: 47.27%] [G loss: 1.011570]\n"
     ]
    },
    {
     "output_type": "stream",
     "name": "stderr",
     "text": [
      " 15%|█▌        | 31/201 [00:02<00:11, 14.22it/s]"
     ]
    },
    {
     "output_type": "stream",
     "name": "stdout",
     "text": [
      "29 [D loss: 0.695435, acc.: 63.28%] [G loss: 1.125682]\n",
      "30 [D loss: 0.604529, acc.: 71.48%] [G loss: 1.190506]\n",
      "31 [D loss: 0.646084, acc.: 65.23%] [G loss: 1.132169]\n"
     ]
    },
    {
     "output_type": "stream",
     "name": "stderr",
     "text": [
      " 17%|█▋        | 35/201 [00:02<00:11, 13.92it/s]"
     ]
    },
    {
     "output_type": "stream",
     "name": "stdout",
     "text": [
      "32 [D loss: 0.734277, acc.: 59.77%] [G loss: 0.853960]\n",
      "33 [D loss: 0.746823, acc.: 53.12%] [G loss: 0.762385]\n",
      "34 [D loss: 0.670159, acc.: 60.16%] [G loss: 0.916341]\n"
     ]
    },
    {
     "output_type": "stream",
     "name": "stderr",
     "text": [
      " 18%|█▊        | 37/201 [00:03<00:11, 14.12it/s]"
     ]
    },
    {
     "output_type": "stream",
     "name": "stdout",
     "text": [
      "35 [D loss: 0.671954, acc.: 61.33%] [G loss: 1.064799]\n",
      "36 [D loss: 0.660299, acc.: 64.45%] [G loss: 1.115992]\n",
      "37 [D loss: 0.659350, acc.: 64.45%] [G loss: 1.045850]\n"
     ]
    },
    {
     "output_type": "stream",
     "name": "stderr",
     "text": [
      " 20%|██        | 41/201 [00:03<00:11, 14.06it/s]"
     ]
    },
    {
     "output_type": "stream",
     "name": "stdout",
     "text": [
      "38 [D loss: 0.695063, acc.: 50.78%] [G loss: 0.896535]\n",
      "39 [D loss: 0.702763, acc.: 60.16%] [G loss: 1.007340]\n",
      "40 [D loss: 0.659711, acc.: 63.67%] [G loss: 1.125074]\n"
     ]
    },
    {
     "output_type": "stream",
     "name": "stderr",
     "text": [
      " 22%|██▏       | 45/201 [00:03<00:10, 14.56it/s]"
     ]
    },
    {
     "output_type": "stream",
     "name": "stdout",
     "text": [
      "41 [D loss: 0.666940, acc.: 60.16%] [G loss: 1.107759]\n",
      "42 [D loss: 0.695480, acc.: 52.73%] [G loss: 0.997851]\n",
      "43 [D loss: 0.650630, acc.: 60.94%] [G loss: 1.052085]\n",
      "44 [D loss: 0.582053, acc.: 80.86%] [G loss: 1.031008]\n"
     ]
    },
    {
     "output_type": "stream",
     "name": "stderr",
     "text": [
      " 24%|██▍       | 49/201 [00:03<00:10, 14.95it/s]"
     ]
    },
    {
     "output_type": "stream",
     "name": "stdout",
     "text": [
      "45 [D loss: 0.555156, acc.: 78.12%] [G loss: 1.036592]\n",
      "46 [D loss: 0.537293, acc.: 77.34%] [G loss: 0.950673]\n",
      "47 [D loss: 0.584877, acc.: 65.23%] [G loss: 1.061974]\n",
      "48 [D loss: 0.627898, acc.: 58.20%] [G loss: 0.996153]\n"
     ]
    },
    {
     "output_type": "stream",
     "name": "stderr",
     "text": [
      " 26%|██▋       | 53/201 [00:04<00:09, 15.15it/s]"
     ]
    },
    {
     "output_type": "stream",
     "name": "stdout",
     "text": [
      "49 [D loss: 0.759212, acc.: 39.06%] [G loss: 0.941198]\n",
      "50 [D loss: 0.723677, acc.: 54.30%] [G loss: 1.107731]\n",
      "51 [D loss: 0.684543, acc.: 55.86%] [G loss: 1.043659]\n",
      "52 [D loss: 0.691835, acc.: 54.30%] [G loss: 0.992927]\n"
     ]
    },
    {
     "output_type": "stream",
     "name": "stderr",
     "text": [
      " 28%|██▊       | 57/201 [00:04<00:09, 15.18it/s]"
     ]
    },
    {
     "output_type": "stream",
     "name": "stdout",
     "text": [
      "53 [D loss: 0.648824, acc.: 63.67%] [G loss: 0.979212]\n",
      "54 [D loss: 0.664794, acc.: 60.16%] [G loss: 1.011013]\n",
      "55 [D loss: 0.729410, acc.: 54.69%] [G loss: 0.854251]\n",
      "56 [D loss: 0.723036, acc.: 53.12%] [G loss: 0.914398]\n"
     ]
    },
    {
     "output_type": "stream",
     "name": "stderr",
     "text": [
      " 29%|██▉       | 59/201 [00:04<00:09, 15.19it/s]"
     ]
    },
    {
     "output_type": "stream",
     "name": "stdout",
     "text": [
      "57 [D loss: 0.568848, acc.: 80.47%] [G loss: 1.097183]\n",
      "58 [D loss: 0.622805, acc.: 64.06%] [G loss: 0.952932]\n",
      "59 [D loss: 0.667270, acc.: 56.64%] [G loss: 0.992395]\n"
     ]
    },
    {
     "output_type": "stream",
     "name": "stderr",
     "text": [
      " 31%|███▏      | 63/201 [00:04<00:09, 14.80it/s]"
     ]
    },
    {
     "output_type": "stream",
     "name": "stdout",
     "text": [
      "60 [D loss: 0.593453, acc.: 67.19%] [G loss: 1.231334]\n",
      "61 [D loss: 0.618000, acc.: 62.89%] [G loss: 1.083225]\n",
      "62 [D loss: 0.697268, acc.: 54.30%] [G loss: 0.889366]\n",
      "63 [D loss: 0.679349, acc.: 59.38%] [G loss: 0.926913]\n"
     ]
    },
    {
     "output_type": "stream",
     "name": "stderr",
     "text": [
      " 33%|███▎      | 67/201 [00:05<00:08, 15.02it/s]"
     ]
    },
    {
     "output_type": "stream",
     "name": "stdout",
     "text": [
      "64 [D loss: 0.613594, acc.: 70.70%] [G loss: 0.965451]\n",
      "65 [D loss: 0.587141, acc.: 73.83%] [G loss: 1.164349]\n",
      "66 [D loss: 0.655603, acc.: 66.02%] [G loss: 1.009748]\n"
     ]
    },
    {
     "output_type": "stream",
     "name": "stderr",
     "text": [
      " 35%|███▌      | 71/201 [00:05<00:08, 14.98it/s]"
     ]
    },
    {
     "output_type": "stream",
     "name": "stdout",
     "text": [
      "67 [D loss: 0.693001, acc.: 53.91%] [G loss: 0.928315]\n",
      "68 [D loss: 0.722607, acc.: 45.70%] [G loss: 0.874341]\n",
      "69 [D loss: 0.614516, acc.: 71.48%] [G loss: 1.043282]\n",
      "70 [D loss: 0.500814, acc.: 80.47%] [G loss: 1.167846]\n"
     ]
    },
    {
     "output_type": "stream",
     "name": "stderr",
     "text": [
      " 36%|███▋      | 73/201 [00:05<00:08, 14.88it/s]"
     ]
    },
    {
     "output_type": "stream",
     "name": "stdout",
     "text": [
      "71 [D loss: 0.615568, acc.: 66.80%] [G loss: 0.883015]\n",
      "72 [D loss: 0.662185, acc.: 57.81%] [G loss: 0.866582]\n",
      "73 [D loss: 0.662623, acc.: 58.59%] [G loss: 0.957053]\n"
     ]
    },
    {
     "output_type": "stream",
     "name": "stderr",
     "text": [
      " 38%|███▊      | 77/201 [00:05<00:08, 14.72it/s]"
     ]
    },
    {
     "output_type": "stream",
     "name": "stdout",
     "text": [
      "74 [D loss: 0.642028, acc.: 64.06%] [G loss: 0.980985]\n",
      "75 [D loss: 0.604001, acc.: 69.14%] [G loss: 1.040126]\n",
      "76 [D loss: 0.603764, acc.: 71.48%] [G loss: 1.055285]\n",
      "77 [D loss: 0.657053, acc.: 56.25%] [G loss: 1.020827]\n"
     ]
    },
    {
     "output_type": "stream",
     "name": "stderr",
     "text": [
      " 40%|████      | 81/201 [00:06<00:08, 14.95it/s]"
     ]
    },
    {
     "output_type": "stream",
     "name": "stdout",
     "text": [
      "78 [D loss: 0.631437, acc.: 62.50%] [G loss: 1.064563]\n",
      "79 [D loss: 0.627216, acc.: 62.11%] [G loss: 1.056897]\n",
      "80 [D loss: 0.639494, acc.: 58.59%] [G loss: 1.099240]\n",
      "81 [D loss: 0.687297, acc.: 54.69%] [G loss: 0.978818]\n"
     ]
    },
    {
     "output_type": "stream",
     "name": "stderr",
     "text": [
      " 42%|████▏     | 85/201 [00:06<00:07, 15.12it/s]"
     ]
    },
    {
     "output_type": "stream",
     "name": "stdout",
     "text": [
      "82 [D loss: 0.675774, acc.: 54.30%] [G loss: 1.035994]\n",
      "83 [D loss: 0.552702, acc.: 80.47%] [G loss: 1.179609]\n",
      "84 [D loss: 0.531251, acc.: 80.08%] [G loss: 1.142820]\n",
      "85 [D loss: 0.633887, acc.: 64.06%] [G loss: 0.885979]\n"
     ]
    },
    {
     "output_type": "stream",
     "name": "stderr",
     "text": [
      " 44%|████▍     | 89/201 [00:06<00:07, 14.73it/s]"
     ]
    },
    {
     "output_type": "stream",
     "name": "stdout",
     "text": [
      "86 [D loss: 0.705252, acc.: 50.78%] [G loss: 0.919509]\n",
      "87 [D loss: 0.625692, acc.: 70.31%] [G loss: 1.203430]\n",
      "88 [D loss: 0.596135, acc.: 75.00%] [G loss: 1.170023]\n"
     ]
    },
    {
     "output_type": "stream",
     "name": "stderr",
     "text": [
      " 46%|████▋     | 93/201 [00:06<00:07, 14.89it/s]"
     ]
    },
    {
     "output_type": "stream",
     "name": "stdout",
     "text": [
      "89 [D loss: 0.665914, acc.: 56.25%] [G loss: 0.873145]\n",
      "90 [D loss: 0.633155, acc.: 62.11%] [G loss: 1.051797]\n",
      "91 [D loss: 0.604939, acc.: 68.36%] [G loss: 1.016445]\n",
      "92 [D loss: 0.653639, acc.: 59.77%] [G loss: 0.954702]\n"
     ]
    },
    {
     "output_type": "stream",
     "name": "stderr",
     "text": [
      " 47%|████▋     | 95/201 [00:06<00:07, 15.04it/s]"
     ]
    },
    {
     "output_type": "stream",
     "name": "stdout",
     "text": [
      "93 [D loss: 0.620737, acc.: 64.06%] [G loss: 1.073353]\n",
      "94 [D loss: 0.628342, acc.: 64.06%] [G loss: 1.129244]\n",
      "95 [D loss: 0.619721, acc.: 64.84%] [G loss: 1.050286]\n"
     ]
    },
    {
     "output_type": "stream",
     "name": "stderr",
     "text": [
      " 49%|████▉     | 99/201 [00:07<00:07, 14.50it/s]"
     ]
    },
    {
     "output_type": "stream",
     "name": "stdout",
     "text": [
      "96 [D loss: 0.677251, acc.: 60.16%] [G loss: 0.945121]\n",
      "97 [D loss: 0.670997, acc.: 61.33%] [G loss: 0.920590]\n",
      "98 [D loss: 0.660021, acc.: 59.38%] [G loss: 0.968030]\n"
     ]
    },
    {
     "output_type": "stream",
     "name": "stderr",
     "text": [
      " 50%|█████     | 101/201 [00:07<00:07, 14.09it/s]"
     ]
    },
    {
     "output_type": "stream",
     "name": "stdout",
     "text": [
      "99 [D loss: 0.607855, acc.: 67.58%] [G loss: 1.064863]\n",
      "100 [D loss: 0.584812, acc.: 75.00%] [G loss: 1.067599]\n",
      "generated_data\n",
      "101 [D loss: 0.647032, acc.: 63.28%] [G loss: 1.009043]\n"
     ]
    },
    {
     "output_type": "stream",
     "name": "stderr",
     "text": [
      " 52%|█████▏    | 105/201 [00:07<00:06, 14.37it/s]"
     ]
    },
    {
     "output_type": "stream",
     "name": "stdout",
     "text": [
      "102 [D loss: 0.702883, acc.: 46.48%] [G loss: 0.785143]\n",
      "103 [D loss: 0.653963, acc.: 59.38%] [G loss: 0.921296]\n",
      "104 [D loss: 0.660003, acc.: 59.77%] [G loss: 0.992312]\n"
     ]
    },
    {
     "output_type": "stream",
     "name": "stderr",
     "text": [
      " 53%|█████▎    | 107/201 [00:07<00:06, 14.14it/s]"
     ]
    },
    {
     "output_type": "stream",
     "name": "stdout",
     "text": [
      "105 [D loss: 0.674144, acc.: 54.30%] [G loss: 0.842441]\n",
      "106 [D loss: 0.643941, acc.: 62.11%] [G loss: 0.905057]\n",
      "107 [D loss: 0.653854, acc.: 60.16%] [G loss: 0.997020]\n"
     ]
    },
    {
     "output_type": "stream",
     "name": "stderr",
     "text": [
      " 55%|█████▌    | 111/201 [00:08<00:06, 14.20it/s]"
     ]
    },
    {
     "output_type": "stream",
     "name": "stdout",
     "text": [
      "108 [D loss: 0.645455, acc.: 62.11%] [G loss: 0.932954]\n",
      "109 [D loss: 0.665808, acc.: 53.52%] [G loss: 0.888468]\n",
      "110 [D loss: 0.639209, acc.: 61.72%] [G loss: 0.893442]\n"
     ]
    },
    {
     "output_type": "stream",
     "name": "stderr",
     "text": [
      " 56%|█████▌    | 113/201 [00:08<00:06, 14.13it/s]"
     ]
    },
    {
     "output_type": "stream",
     "name": "stdout",
     "text": [
      "111 [D loss: 0.636178, acc.: 63.67%] [G loss: 0.925546]\n",
      "112 [D loss: 0.607769, acc.: 71.48%] [G loss: 0.993356]\n",
      "113 [D loss: 0.652839, acc.: 61.72%] [G loss: 0.949343]\n"
     ]
    },
    {
     "output_type": "stream",
     "name": "stderr",
     "text": [
      " 58%|█████▊    | 117/201 [00:08<00:05, 14.43it/s]"
     ]
    },
    {
     "output_type": "stream",
     "name": "stdout",
     "text": [
      "114 [D loss: 0.629230, acc.: 67.19%] [G loss: 0.991919]\n",
      "115 [D loss: 0.596526, acc.: 70.31%] [G loss: 1.092277]\n",
      "116 [D loss: 0.613246, acc.: 71.09%] [G loss: 1.062938]\n"
     ]
    },
    {
     "output_type": "stream",
     "name": "stderr",
     "text": [
      " 59%|█████▉    | 119/201 [00:08<00:05, 13.75it/s]"
     ]
    },
    {
     "output_type": "stream",
     "name": "stdout",
     "text": [
      "117 [D loss: 0.624708, acc.: 66.41%] [G loss: 0.957176]\n",
      "118 [D loss: 0.628994, acc.: 61.72%] [G loss: 1.109560]\n",
      "119 [D loss: 0.615997, acc.: 65.62%] [G loss: 1.018562]\n"
     ]
    },
    {
     "output_type": "stream",
     "name": "stderr",
     "text": [
      " 61%|██████    | 123/201 [00:08<00:05, 14.15it/s]"
     ]
    },
    {
     "output_type": "stream",
     "name": "stdout",
     "text": [
      "120 [D loss: 0.638407, acc.: 60.16%] [G loss: 0.980298]\n",
      "121 [D loss: 0.592755, acc.: 67.97%] [G loss: 1.163128]\n",
      "122 [D loss: 0.597432, acc.: 68.36%] [G loss: 1.115566]\n"
     ]
    },
    {
     "output_type": "stream",
     "name": "stderr",
     "text": [
      " 62%|██████▏   | 125/201 [00:09<00:05, 14.29it/s]"
     ]
    },
    {
     "output_type": "stream",
     "name": "stdout",
     "text": [
      "123 [D loss: 0.618195, acc.: 65.62%] [G loss: 1.072845]\n",
      "124 [D loss: 0.620309, acc.: 62.11%] [G loss: 1.011995]\n",
      "125 [D loss: 0.604478, acc.: 67.97%] [G loss: 0.992189]\n"
     ]
    },
    {
     "output_type": "stream",
     "name": "stderr",
     "text": [
      " 64%|██████▍   | 129/201 [00:09<00:05, 14.37it/s]"
     ]
    },
    {
     "output_type": "stream",
     "name": "stdout",
     "text": [
      "126 [D loss: 0.615076, acc.: 66.41%] [G loss: 0.956289]\n",
      "127 [D loss: 0.594594, acc.: 69.14%] [G loss: 1.006189]\n",
      "128 [D loss: 0.597467, acc.: 67.58%] [G loss: 1.124163]\n"
     ]
    },
    {
     "output_type": "stream",
     "name": "stderr",
     "text": [
      " 65%|██████▌   | 131/201 [00:09<00:04, 14.43it/s]"
     ]
    },
    {
     "output_type": "stream",
     "name": "stdout",
     "text": [
      "129 [D loss: 0.640436, acc.: 59.77%] [G loss: 1.114807]\n",
      "130 [D loss: 0.589628, acc.: 66.02%] [G loss: 1.092964]\n",
      "131 [D loss: 0.643631, acc.: 59.38%] [G loss: 0.959220]\n"
     ]
    },
    {
     "output_type": "stream",
     "name": "stderr",
     "text": [
      " 67%|██████▋   | 135/201 [00:09<00:04, 14.65it/s]"
     ]
    },
    {
     "output_type": "stream",
     "name": "stdout",
     "text": [
      "132 [D loss: 0.624654, acc.: 65.23%] [G loss: 1.012808]\n",
      "133 [D loss: 0.537211, acc.: 74.22%] [G loss: 1.223650]\n",
      "134 [D loss: 0.548765, acc.: 76.56%] [G loss: 1.047919]\n"
     ]
    },
    {
     "output_type": "stream",
     "name": "stderr",
     "text": [
      " 68%|██████▊   | 137/201 [00:09<00:04, 14.63it/s]"
     ]
    },
    {
     "output_type": "stream",
     "name": "stdout",
     "text": [
      "135 [D loss: 0.593324, acc.: 67.58%] [G loss: 1.031100]\n",
      "136 [D loss: 0.628770, acc.: 63.28%] [G loss: 1.017282]\n",
      "137 [D loss: 0.638802, acc.: 62.11%] [G loss: 1.023109]\n"
     ]
    },
    {
     "output_type": "stream",
     "name": "stderr",
     "text": [
      " 70%|███████   | 141/201 [00:10<00:04, 14.36it/s]"
     ]
    },
    {
     "output_type": "stream",
     "name": "stdout",
     "text": [
      "138 [D loss: 0.544216, acc.: 74.22%] [G loss: 1.145653]\n",
      "139 [D loss: 0.526260, acc.: 75.00%] [G loss: 1.257279]\n",
      "140 [D loss: 0.554439, acc.: 72.27%] [G loss: 1.173286]\n"
     ]
    },
    {
     "output_type": "stream",
     "name": "stderr",
     "text": [
      " 72%|███████▏  | 145/201 [00:10<00:03, 14.57it/s]"
     ]
    },
    {
     "output_type": "stream",
     "name": "stdout",
     "text": [
      "141 [D loss: 0.629538, acc.: 61.33%] [G loss: 1.136336]\n",
      "142 [D loss: 0.633804, acc.: 63.67%] [G loss: 0.980453]\n",
      "143 [D loss: 0.631608, acc.: 64.06%] [G loss: 0.987468]\n",
      "144 [D loss: 0.563645, acc.: 69.92%] [G loss: 1.279492]\n"
     ]
    },
    {
     "output_type": "stream",
     "name": "stderr",
     "text": [
      " 74%|███████▍  | 149/201 [00:10<00:03, 14.84it/s]"
     ]
    },
    {
     "output_type": "stream",
     "name": "stdout",
     "text": [
      "145 [D loss: 0.495721, acc.: 76.17%] [G loss: 1.502890]\n",
      "146 [D loss: 0.545707, acc.: 73.83%] [G loss: 1.231275]\n",
      "147 [D loss: 0.615372, acc.: 58.20%] [G loss: 0.950182]\n",
      "148 [D loss: 0.659109, acc.: 60.94%] [G loss: 0.950729]\n"
     ]
    },
    {
     "output_type": "stream",
     "name": "stderr",
     "text": [
      " 75%|███████▌  | 151/201 [00:10<00:03, 14.92it/s]"
     ]
    },
    {
     "output_type": "stream",
     "name": "stdout",
     "text": [
      "149 [D loss: 0.612304, acc.: 63.28%] [G loss: 1.109508]\n",
      "150 [D loss: 0.552484, acc.: 71.09%] [G loss: 1.209966]\n",
      "151 [D loss: 0.545809, acc.: 71.09%] [G loss: 1.135190]\n"
     ]
    },
    {
     "output_type": "stream",
     "name": "stderr",
     "text": [
      " 77%|███████▋  | 155/201 [00:11<00:03, 14.67it/s]"
     ]
    },
    {
     "output_type": "stream",
     "name": "stdout",
     "text": [
      "152 [D loss: 0.578675, acc.: 66.02%] [G loss: 1.168916]\n",
      "153 [D loss: 0.584283, acc.: 65.23%] [G loss: 1.196073]\n",
      "154 [D loss: 0.598975, acc.: 67.58%] [G loss: 1.135116]\n"
     ]
    },
    {
     "output_type": "stream",
     "name": "stderr",
     "text": [
      " 79%|███████▉  | 159/201 [00:11<00:02, 14.84it/s]"
     ]
    },
    {
     "output_type": "stream",
     "name": "stdout",
     "text": [
      "155 [D loss: 0.606514, acc.: 66.41%] [G loss: 1.032472]\n",
      "156 [D loss: 0.594855, acc.: 67.19%] [G loss: 1.082688]\n",
      "157 [D loss: 0.560641, acc.: 72.27%] [G loss: 1.080591]\n",
      "158 [D loss: 0.540712, acc.: 74.22%] [G loss: 1.185920]\n"
     ]
    },
    {
     "output_type": "stream",
     "name": "stderr",
     "text": [
      " 81%|████████  | 163/201 [00:11<00:02, 14.91it/s]"
     ]
    },
    {
     "output_type": "stream",
     "name": "stdout",
     "text": [
      "159 [D loss: 0.590826, acc.: 65.23%] [G loss: 1.120154]\n",
      "160 [D loss: 0.619872, acc.: 65.62%] [G loss: 1.025882]\n",
      "161 [D loss: 0.612490, acc.: 64.45%] [G loss: 1.083111]\n",
      "162 [D loss: 0.577126, acc.: 68.75%] [G loss: 1.244798]\n"
     ]
    },
    {
     "output_type": "stream",
     "name": "stderr",
     "text": [
      " 83%|████████▎ | 167/201 [00:11<00:02, 14.97it/s]"
     ]
    },
    {
     "output_type": "stream",
     "name": "stdout",
     "text": [
      "163 [D loss: 0.526530, acc.: 75.00%] [G loss: 1.235106]\n",
      "164 [D loss: 0.555750, acc.: 72.27%] [G loss: 1.104536]\n",
      "165 [D loss: 0.580906, acc.: 69.92%] [G loss: 1.243667]\n",
      "166 [D loss: 0.527248, acc.: 69.53%] [G loss: 1.300426]\n"
     ]
    },
    {
     "output_type": "stream",
     "name": "stderr",
     "text": [
      " 85%|████████▌ | 171/201 [00:12<00:02, 14.86it/s]"
     ]
    },
    {
     "output_type": "stream",
     "name": "stdout",
     "text": [
      "167 [D loss: 0.564445, acc.: 70.31%] [G loss: 1.134656]\n",
      "168 [D loss: 0.566677, acc.: 75.00%] [G loss: 1.079484]\n",
      "169 [D loss: 0.600965, acc.: 67.58%] [G loss: 1.197279]\n",
      "170 [D loss: 0.605864, acc.: 63.67%] [G loss: 1.257107]\n"
     ]
    },
    {
     "output_type": "stream",
     "name": "stderr",
     "text": [
      " 87%|████████▋ | 175/201 [00:12<00:01, 14.93it/s]"
     ]
    },
    {
     "output_type": "stream",
     "name": "stdout",
     "text": [
      "171 [D loss: 0.581070, acc.: 67.19%] [G loss: 1.214595]\n",
      "172 [D loss: 0.558318, acc.: 69.53%] [G loss: 1.273430]\n",
      "173 [D loss: 0.529268, acc.: 78.12%] [G loss: 1.231471]\n",
      "174 [D loss: 0.545604, acc.: 74.22%] [G loss: 1.202493]\n"
     ]
    },
    {
     "output_type": "stream",
     "name": "stderr",
     "text": [
      " 88%|████████▊ | 177/201 [00:12<00:01, 14.87it/s]"
     ]
    },
    {
     "output_type": "stream",
     "name": "stdout",
     "text": [
      "175 [D loss: 0.561914, acc.: 73.44%] [G loss: 1.217553]\n",
      "176 [D loss: 0.549528, acc.: 73.05%] [G loss: 1.282071]\n",
      "177 [D loss: 0.549463, acc.: 75.78%] [G loss: 1.319983]\n"
     ]
    },
    {
     "output_type": "stream",
     "name": "stderr",
     "text": [
      " 90%|█████████ | 181/201 [00:12<00:01, 14.88it/s]"
     ]
    },
    {
     "output_type": "stream",
     "name": "stdout",
     "text": [
      "178 [D loss: 0.556112, acc.: 73.05%] [G loss: 1.283996]\n",
      "179 [D loss: 0.577835, acc.: 66.41%] [G loss: 1.278464]\n",
      "180 [D loss: 0.580962, acc.: 67.97%] [G loss: 1.145324]\n",
      "181 [D loss: 0.631294, acc.: 63.28%] [G loss: 1.088824]\n"
     ]
    },
    {
     "output_type": "stream",
     "name": "stderr",
     "text": [
      " 92%|█████████▏| 185/201 [00:13<00:01, 14.84it/s]"
     ]
    },
    {
     "output_type": "stream",
     "name": "stdout",
     "text": [
      "182 [D loss: 0.609078, acc.: 67.58%] [G loss: 1.082600]\n",
      "183 [D loss: 0.568129, acc.: 73.05%] [G loss: 1.153463]\n",
      "184 [D loss: 0.573630, acc.: 70.31%] [G loss: 1.072984]\n"
     ]
    },
    {
     "output_type": "stream",
     "name": "stderr",
     "text": [
      " 93%|█████████▎| 187/201 [00:13<00:00, 14.65it/s]"
     ]
    },
    {
     "output_type": "stream",
     "name": "stdout",
     "text": [
      "185 [D loss: 0.545454, acc.: 73.44%] [G loss: 1.159975]\n",
      "186 [D loss: 0.604143, acc.: 67.58%] [G loss: 1.104958]\n",
      "187 [D loss: 0.569865, acc.: 69.92%] [G loss: 1.136199]\n"
     ]
    },
    {
     "output_type": "stream",
     "name": "stderr",
     "text": [
      " 95%|█████████▌| 191/201 [00:13<00:00, 14.43it/s]"
     ]
    },
    {
     "output_type": "stream",
     "name": "stdout",
     "text": [
      "188 [D loss: 0.526441, acc.: 73.83%] [G loss: 1.258840]\n",
      "189 [D loss: 0.585926, acc.: 68.36%] [G loss: 1.214675]\n",
      "190 [D loss: 0.584743, acc.: 67.19%] [G loss: 1.237197]\n"
     ]
    },
    {
     "output_type": "stream",
     "name": "stderr",
     "text": [
      " 96%|█████████▌| 193/201 [00:13<00:00, 14.41it/s]"
     ]
    },
    {
     "output_type": "stream",
     "name": "stdout",
     "text": [
      "191 [D loss: 0.572285, acc.: 67.58%] [G loss: 1.207233]\n",
      "192 [D loss: 0.537477, acc.: 71.48%] [G loss: 1.200769]\n",
      "193 [D loss: 0.550338, acc.: 72.66%] [G loss: 1.235749]\n"
     ]
    },
    {
     "output_type": "stream",
     "name": "stderr",
     "text": [
      " 98%|█████████▊| 197/201 [00:13<00:00, 14.37it/s]"
     ]
    },
    {
     "output_type": "stream",
     "name": "stdout",
     "text": [
      "194 [D loss: 0.598589, acc.: 66.80%] [G loss: 1.144557]\n",
      "195 [D loss: 0.607460, acc.: 67.58%] [G loss: 1.045876]\n",
      "196 [D loss: 0.559414, acc.: 72.66%] [G loss: 1.158894]\n"
     ]
    },
    {
     "output_type": "stream",
     "name": "stderr",
     "text": [
      " 99%|█████████▉| 199/201 [00:14<00:00, 14.37it/s]"
     ]
    },
    {
     "output_type": "stream",
     "name": "stdout",
     "text": [
      "197 [D loss: 0.543792, acc.: 71.88%] [G loss: 1.285328]\n",
      "198 [D loss: 0.563303, acc.: 66.41%] [G loss: 1.143555]\n",
      "199 [D loss: 0.611836, acc.: 62.11%] [G loss: 1.033467]\n"
     ]
    },
    {
     "output_type": "stream",
     "name": "stderr",
     "text": [
      "100%|██████████| 201/201 [00:14<00:00, 14.10it/s]"
     ]
    },
    {
     "output_type": "stream",
     "name": "stdout",
     "text": [
      "200 [D loss: 0.597143, acc.: 64.84%] [G loss: 1.126840]\n",
      "generated_data\n"
     ]
    },
    {
     "output_type": "stream",
     "name": "stderr",
     "text": [
      "\n"
     ]
    }
   ],
   "metadata": {
    "pycharm": {
     "name": "#%%\n"
    },
    "id": "qgMDmyall4fc",
    "outputId": "ae669bdf-01b6-49d9-a254-cc0776508f7b",
    "colab": {
     "base_uri": "https://localhost:8080/"
    }
   }
  },
  {
   "cell_type": "code",
   "execution_count": 10,
   "source": [
    "# Generator description\n",
    "synthesizer.generator.summary()"
   ],
   "outputs": [
    {
     "output_type": "stream",
     "name": "stdout",
     "text": [
      "Model: \"model\"\n",
      "_________________________________________________________________\n",
      "Layer (type)                 Output Shape              Param #   \n",
      "=================================================================\n",
      "input_1 (InputLayer)         [(128, 32)]               0         \n",
      "_________________________________________________________________\n",
      "dense (Dense)                (128, 128)                4224      \n",
      "_________________________________________________________________\n",
      "dense_1 (Dense)              (128, 256)                33024     \n",
      "_________________________________________________________________\n",
      "dense_2 (Dense)              (128, 512)                131584    \n",
      "_________________________________________________________________\n",
      "dense_3 (Dense)              (128, 30)                 15390     \n",
      "=================================================================\n",
      "Total params: 184,222\n",
      "Trainable params: 184,222\n",
      "Non-trainable params: 0\n",
      "_________________________________________________________________\n"
     ]
    }
   ],
   "metadata": {
    "id": "tDjYWJPyl4fc",
    "outputId": "8a5c7afb-74ee-44ee-8902-048250d04061",
    "colab": {
     "base_uri": "https://localhost:8080/"
    }
   }
  },
  {
   "cell_type": "code",
   "execution_count": 11,
   "source": [
    "# Discriminator description\n",
    "synthesizer.discriminator.summary()"
   ],
   "outputs": [
    {
     "output_type": "stream",
     "name": "stdout",
     "text": [
      "Model: \"model_1\"\n",
      "_________________________________________________________________\n",
      "Layer (type)                 Output Shape              Param #   \n",
      "=================================================================\n",
      "input_2 (InputLayer)         [(128, 30)]               0         \n",
      "_________________________________________________________________\n",
      "dense_4 (Dense)              (128, 512)                15872     \n",
      "_________________________________________________________________\n",
      "dropout (Dropout)            (128, 512)                0         \n",
      "_________________________________________________________________\n",
      "dense_5 (Dense)              (128, 256)                131328    \n",
      "_________________________________________________________________\n",
      "dropout_1 (Dropout)          (128, 256)                0         \n",
      "_________________________________________________________________\n",
      "dense_6 (Dense)              (128, 128)                32896     \n",
      "_________________________________________________________________\n",
      "dense_7 (Dense)              (128, 1)                  129       \n",
      "=================================================================\n",
      "Total params: 180,225\n",
      "Trainable params: 0\n",
      "Non-trainable params: 180,225\n",
      "_________________________________________________________________\n"
     ]
    }
   ],
   "metadata": {
    "pycharm": {
     "name": "#%%\n"
    },
    "id": "9zyfNK8Gl4fd",
    "outputId": "634297a1-dbeb-4fd0-fe52-24b181711336",
    "colab": {
     "base_uri": "https://localhost:8080/"
    }
   }
  },
  {
   "cell_type": "code",
   "execution_count": 12,
   "source": [
    "# You can easily save the trained generator and loaded it afterwards\n",
    "if not os.path.exists(\"./saved/gan\"):\n",
    "    os.makedirs(\"./saved/gan\")\n",
    "synthesizer.save(path=\"./saved/gan/generator_fraud.pkl\")"
   ],
   "outputs": [],
   "metadata": {
    "pycharm": {
     "name": "#%%\n"
    },
    "id": "C3cs_LKEl4fd",
    "outputId": "bdb0af49-7e29-480e-cb83-56ad2f192ae0",
    "colab": {
     "base_uri": "https://localhost:8080/",
     "height": 185
    }
   }
  },
  {
   "cell_type": "code",
   "execution_count": 13,
   "source": [
    "models = {'GAN': ['GAN', False, synthesizer.generator]}"
   ],
   "outputs": [],
   "metadata": {
    "id": "5mvCYNH5l4fd"
   }
  },
  {
   "cell_type": "code",
   "execution_count": 14,
   "source": [
    "# Setup parameters visualization parameters\n",
    "seed = 17\n",
    "test_size = 492 # number of fraud cases\n",
    "noise_dim = 32\n",
    "\n",
    "np.random.seed(seed)\n",
    "z = np.random.normal(size=(test_size, noise_dim))\n",
    "real = synthesizer.get_data_batch(train=train_sample, batch_size=test_size, seed=seed)\n",
    "real_samples = pd.DataFrame(real, columns=data_cols+label_cols)\n",
    "labels = fraud_w_classes['Class']\n",
    "\n",
    "model_names = ['GAN']\n",
    "colors = ['deepskyblue','blue']\n",
    "markers = ['o','^']\n",
    "class_labels = ['Class 1','Class 2']\n",
    "\n",
    "col1, col2 = 'V17', 'V10'\n",
    "\n",
    "base_dir = 'cache/'\n",
    "\n",
    "# Actual fraud data visualization\n",
    "model_steps = [ 0, 100, 200]\n",
    "rows = len(model_steps)\n",
    "columns = 1 + len(models)\n",
    "\n",
    "axarr = [[]]*len(model_steps)\n",
    "\n",
    "fig = plt.figure(figsize=(14,rows*3))\n",
    "\n",
    "# Go through each of the 3 model_step values -> 0, 100, 200\n",
    "for model_step_ix, model_step in enumerate(model_steps):        \n",
    "    axarr[model_step_ix] = plt.subplot(rows, columns, model_step_ix*columns + 1)\n",
    "\n",
    "    # Plot 'Class 1' and 'Class 2' samples taken from the original data, in a random shuffled fashion\n",
    "    for group, color, marker, label in zip(real_samples.groupby('Class_1'), colors, markers, class_labels ):\n",
    "        plt.scatter( group[1][[col1]], group[1][[col2]], \n",
    "                         label=label, marker=marker, edgecolors=color, facecolors='none' )\n",
    "    \n",
    "    plt.title('Actual Fraud Data')\n",
    "    plt.ylabel(col2) # Only add y label to left plot\n",
    "    plt.xlabel(col1)\n",
    "    xlims, ylims = axarr[model_step_ix].get_xlim(), axarr[model_step_ix].get_ylim()\n",
    "    \n",
    "    if model_step_ix == 0: \n",
    "        legend = plt.legend()\n",
    "        legend.get_frame().set_facecolor('white')\n",
    "\n",
    "    # Go through all the GAN models listed in 'model_names' and defined in 'models'\n",
    "    for i, model_name in enumerate( model_names[:] ):\n",
    "\n",
    "        [model_name, with_class, generator_model] = models[model_name]\n",
    "\n",
    "        generator_model.load_weights( base_dir + '_generator_model_weights_step_'+str(model_step)+'.h5')\n",
    "\n",
    "        ax = plt.subplot(rows, columns, model_step_ix*columns + 1 + (i+1) )\n",
    "\n",
    "        if with_class:\n",
    "            g_z = generator_model.predict([z, labels])\n",
    "            gen_samples = pd.DataFrame(g_z, columns=data_cols+label_cols)\n",
    "            for group, color, marker, label in zip( gen_samples.groupby('Class_1'), colors, markers, class_labels ):\n",
    "                plt.scatter( group[1][[col1]], group[1][[col2]], \n",
    "                                 label=label, marker=marker, edgecolors=color, facecolors='none' )\n",
    "        else:\n",
    "            g_z = generator_model.predict(z)\n",
    "            gen_samples = pd.DataFrame(g_z, columns=data_cols+['label'])\n",
    "            gen_samples.to_csv('../../data/Generated_sample.csv')\n",
    "            plt.scatter( gen_samples[[col1]], gen_samples[[col2]],\n",
    "                             label=class_labels[0], marker=markers[0], edgecolors=colors[0], facecolors='none' )\n",
    "        plt.title(model_name)   \n",
    "        plt.xlabel(col1)\n",
    "        ax.set_xlim(xlims), ax.set_ylim(ylims)\n",
    "\n",
    "plt.suptitle('Comparison of GAN outputs', size=16, fontweight='bold')\n",
    "plt.tight_layout(rect=[0.075,0,1,0.95])\n",
    "\n",
    "# Adding text labels for training steps\n",
    "vpositions = np.array([ i._position.bounds[1] for i in axarr ])\n",
    "vpositions += ((vpositions[0] - vpositions[1]) * 0.35 )\n",
    "for model_step_ix, model_step in enumerate( model_steps ):\n",
    "    fig.text( 0.05, vpositions[model_step_ix], 'training\\nstep\\n'+str(model_step), ha='center', va='center', size=12)\n",
    "\n",
    "if not os.path.exists(\"./img\"):\n",
    "    os.makedirs(\"./img\")\n",
    "plt.savefig('img/Comparison_of_GAN_outputs.png', dpi=100)"
   ],
   "outputs": [],
   "metadata": {
    "pycharm": {
     "name": "#%%\n"
    },
    "id": "5wl54IVkl4fe",
    "outputId": "7f131092-2e97-4a95-eb93-d97b2f991321",
    "colab": {
     "base_uri": "https://localhost:8080/",
     "height": 1000
    }
   }
  },
  {
   "cell_type": "code",
   "execution_count": null,
   "source": [],
   "outputs": [],
   "metadata": {
    "collapsed": false,
    "pycharm": {
     "name": "#%%\n"
    }
   }
  }
 ]
}